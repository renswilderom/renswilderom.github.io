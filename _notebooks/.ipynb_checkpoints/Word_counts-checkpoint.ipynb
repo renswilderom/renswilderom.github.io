{
 "cells": [
  {
   "cell_type": "markdown",
   "id": "e9b1eed7",
   "metadata": {},
   "source": [
    "## Plotting word counts through time with Pandas, Resample, and Plotly"
   ]
  },
  {
   "cell_type": "markdown",
   "id": "e3316783",
   "metadata": {},
   "source": [
    "***\n",
    "\n",
    "### 1. Open and prepare the dataset \n",
    "\n",
    "***"
   ]
  },
  {
   "cell_type": "markdown",
   "id": "91bbdc22",
   "metadata": {},
   "source": [
    "This task works with an example dataset of old-fashioned Dutch boy names. Just because the are short and, in my humble opinion, also because they sound quite cool. If you are working with your own data, then you need a dataframe with at least two columns: \n",
    "* one column with a date string (e.g. \"1950\") which can be turned into a Pandas datetime object (here we use years, but the datetime function also recognizes formates such as \"10/11/12,\" which are parsed as \"2012-11-10\").\n",
    "* and one column with a text string (here we use a few boy names, but full newspaper articles, for example, would work, too). "
   ]
  },
  {
   "cell_type": "code",
   "execution_count": 1,
   "id": "412a5111",
   "metadata": {},
   "outputs": [
    {
     "data": {
      "text/html": [
       "<div>\n",
       "<style scoped>\n",
       "    .dataframe tbody tr th:only-of-type {\n",
       "        vertical-align: middle;\n",
       "    }\n",
       "\n",
       "    .dataframe tbody tr th {\n",
       "        vertical-align: top;\n",
       "    }\n",
       "\n",
       "    .dataframe thead th {\n",
       "        text-align: right;\n",
       "    }\n",
       "</style>\n",
       "<table border=\"1\" class=\"dataframe\">\n",
       "  <thead>\n",
       "    <tr style=\"text-align: right;\">\n",
       "      <th></th>\n",
       "      <th>year</th>\n",
       "      <th>text</th>\n",
       "    </tr>\n",
       "  </thead>\n",
       "  <tbody>\n",
       "    <tr>\n",
       "      <th>0</th>\n",
       "      <td>1950</td>\n",
       "      <td>Cees Aart Arie Jan Otto Gijs Sef Toon</td>\n",
       "    </tr>\n",
       "    <tr>\n",
       "      <th>1</th>\n",
       "      <td>1951</td>\n",
       "      <td>Cees Aart Arie Jan Otto Gijs Sef Toon Cees Aar...</td>\n",
       "    </tr>\n",
       "    <tr>\n",
       "      <th>3</th>\n",
       "      <td>1952</td>\n",
       "      <td>Aart Arie Toon</td>\n",
       "    </tr>\n",
       "    <tr>\n",
       "      <th>4</th>\n",
       "      <td>1953</td>\n",
       "      <td>Jan Otto</td>\n",
       "    </tr>\n",
       "    <tr>\n",
       "      <th>5</th>\n",
       "      <td>1954</td>\n",
       "      <td>Gijs</td>\n",
       "    </tr>\n",
       "  </tbody>\n",
       "</table>\n",
       "</div>"
      ],
      "text/plain": [
       "   year                                               text\n",
       "0  1950              Cees Aart Arie Jan Otto Gijs Sef Toon\n",
       "1  1951  Cees Aart Arie Jan Otto Gijs Sef Toon Cees Aar...\n",
       "3  1952                                     Aart Arie Toon\n",
       "4  1953                                           Jan Otto\n",
       "5  1954                                               Gijs"
      ]
     },
     "execution_count": 1,
     "metadata": {},
     "output_type": "execute_result"
    }
   ],
   "source": [
    "# Import some packages and create an example dataset\n",
    "import warnings\n",
    "warnings.filterwarnings('ignore') # only use this when you know the script and want to supress unnecessary warnings\n",
    "\n",
    "# Create a dataframe\n",
    "import pandas as pd\n",
    "dict={'year':['1950', '1951', '1952', '1953', '1954'],'text':['Cees Aart Arie Jan Otto Gijs Sef Toon', \n",
    "                                                              'Cees Aart Arie Jan Otto Gijs Sef Toon Cees Aart Arie Jan Otto Gijs Sef Toon', \n",
    "                                                              'Aart Arie Toon', \n",
    "                                                              'Jan Otto', \n",
    "                                                              'Gijs']} \n",
    "df=pd.DataFrame(dict,index=['0', '1', '3', '4', '5'])\n",
    "# in Jupyter Notebooks, you just call the name of a dataframe (e.g. \"df\") in the bottom of a cell to print it\n",
    "df"
   ]
  },
  {
   "cell_type": "code",
   "execution_count": 2,
   "id": "38da4d74",
   "metadata": {},
   "outputs": [
    {
     "data": {
      "text/html": [
       "<div>\n",
       "<style scoped>\n",
       "    .dataframe tbody tr th:only-of-type {\n",
       "        vertical-align: middle;\n",
       "    }\n",
       "\n",
       "    .dataframe tbody tr th {\n",
       "        vertical-align: top;\n",
       "    }\n",
       "\n",
       "    .dataframe thead th {\n",
       "        text-align: right;\n",
       "    }\n",
       "</style>\n",
       "<table border=\"1\" class=\"dataframe\">\n",
       "  <thead>\n",
       "    <tr style=\"text-align: right;\">\n",
       "      <th></th>\n",
       "      <th>year</th>\n",
       "      <th>text</th>\n",
       "      <th>datetime</th>\n",
       "    </tr>\n",
       "  </thead>\n",
       "  <tbody>\n",
       "    <tr>\n",
       "      <th>0</th>\n",
       "      <td>1950</td>\n",
       "      <td>Cees Aart Arie Jan Otto Gijs Sef Toon</td>\n",
       "      <td>1950-01-01</td>\n",
       "    </tr>\n",
       "    <tr>\n",
       "      <th>1</th>\n",
       "      <td>1951</td>\n",
       "      <td>Cees Aart Arie Jan Otto Gijs Sef Toon Cees Aar...</td>\n",
       "      <td>1951-01-01</td>\n",
       "    </tr>\n",
       "    <tr>\n",
       "      <th>3</th>\n",
       "      <td>1952</td>\n",
       "      <td>Aart Arie Toon</td>\n",
       "      <td>1952-01-01</td>\n",
       "    </tr>\n",
       "    <tr>\n",
       "      <th>4</th>\n",
       "      <td>1953</td>\n",
       "      <td>Jan Otto</td>\n",
       "      <td>1953-01-01</td>\n",
       "    </tr>\n",
       "    <tr>\n",
       "      <th>5</th>\n",
       "      <td>1954</td>\n",
       "      <td>Gijs</td>\n",
       "      <td>1954-01-01</td>\n",
       "    </tr>\n",
       "  </tbody>\n",
       "</table>\n",
       "</div>"
      ],
      "text/plain": [
       "   year                                               text   datetime\n",
       "0  1950              Cees Aart Arie Jan Otto Gijs Sef Toon 1950-01-01\n",
       "1  1951  Cees Aart Arie Jan Otto Gijs Sef Toon Cees Aar... 1951-01-01\n",
       "3  1952                                     Aart Arie Toon 1952-01-01\n",
       "4  1953                                           Jan Otto 1953-01-01\n",
       "5  1954                                               Gijs 1954-01-01"
      ]
     },
     "execution_count": 2,
     "metadata": {},
     "output_type": "execute_result"
    }
   ],
   "source": [
    "# Convert the date string in the column \"year\" (e.g. 1950) to a Pandas datetime object \n",
    "df['datetime']  = pd.to_datetime(df['year'], errors = 'coerce')\n",
    "df"
   ]
  },
  {
   "cell_type": "markdown",
   "id": "326746a3",
   "metadata": {},
   "source": [
    "***\n",
    "\n",
    "### 2. Getting the words counts\n",
    "\n",
    "***"
   ]
  },
  {
   "cell_type": "code",
   "execution_count": 3,
   "id": "2bee8ad4",
   "metadata": {},
   "outputs": [
    {
     "name": "stdout",
     "output_type": "stream",
     "text": [
      "term_of_interest    4\n",
      "dtype: int64\n"
     ]
    },
    {
     "data": {
      "text/html": [
       "<div>\n",
       "<style scoped>\n",
       "    .dataframe tbody tr th:only-of-type {\n",
       "        vertical-align: middle;\n",
       "    }\n",
       "\n",
       "    .dataframe tbody tr th {\n",
       "        vertical-align: top;\n",
       "    }\n",
       "\n",
       "    .dataframe thead th {\n",
       "        text-align: right;\n",
       "    }\n",
       "</style>\n",
       "<table border=\"1\" class=\"dataframe\">\n",
       "  <thead>\n",
       "    <tr style=\"text-align: right;\">\n",
       "      <th></th>\n",
       "      <th>datetime</th>\n",
       "      <th>term_of_interest</th>\n",
       "    </tr>\n",
       "  </thead>\n",
       "  <tbody>\n",
       "    <tr>\n",
       "      <th>0</th>\n",
       "      <td>1950-12-31</td>\n",
       "      <td>1</td>\n",
       "    </tr>\n",
       "    <tr>\n",
       "      <th>1</th>\n",
       "      <td>1951-12-31</td>\n",
       "      <td>2</td>\n",
       "    </tr>\n",
       "    <tr>\n",
       "      <th>2</th>\n",
       "      <td>1952-12-31</td>\n",
       "      <td>1</td>\n",
       "    </tr>\n",
       "    <tr>\n",
       "      <th>3</th>\n",
       "      <td>1953-12-31</td>\n",
       "      <td>0</td>\n",
       "    </tr>\n",
       "    <tr>\n",
       "      <th>4</th>\n",
       "      <td>1954-12-31</td>\n",
       "      <td>0</td>\n",
       "    </tr>\n",
       "  </tbody>\n",
       "</table>\n",
       "</div>"
      ],
      "text/plain": [
       "    datetime  term_of_interest\n",
       "0 1950-12-31                 1\n",
       "1 1951-12-31                 2\n",
       "2 1952-12-31                 1\n",
       "3 1953-12-31                 0\n",
       "4 1954-12-31                 0"
      ]
     },
     "execution_count": 3,
     "metadata": {},
     "output_type": "execute_result"
    }
   ],
   "source": [
    "# Word counts for 'term of interest' per year \n",
    "# You can resample by year, month, or day,i.e. 'A-DEC', 'M', or 'D'\n",
    "# For example, if you have daily time series data, you can aggregate oberservation by day, month or year.\n",
    "# In this example, we work with yearly time series data, so we can aggregate observations by year.\n",
    "df['term_of_interest'] = df['text'].str.count('Aart*')\n",
    "df_word = df.set_index('datetime').resample('A-DEC')['term_of_interest'].sum()\n",
    "df_word = df_word.reset_index()\n",
    "print(df_word.sum())\n",
    "df_word"
   ]
  },
  {
   "cell_type": "code",
   "execution_count": 4,
   "id": "3f94f0bb",
   "metadata": {},
   "outputs": [],
   "source": [
    "# Optional: use a Plotly bar chart to plot the data\n",
    "# To run this code, you need to install the Plotly package first (see the How to get started with Python page in my Blog section)\n",
    "# import plotly.express as px\n",
    "# fig = px.bar(df_word, x='datetime', y='term_of_interest')\n",
    "# fig.update_layout(showlegend=False,\n",
    "#     xaxis_rangeslider_visible=False,\n",
    "#     width=450,\n",
    "#     height=450)  \n",
    "# fig.update_layout(paper_bgcolor='rgba(0,0,0,0)', plot_bgcolor='rgba(0,0,0,0)')\n",
    "# fig.update_xaxes(title_text=\"Year\", showgrid=True, gridwidth=0.3, gridcolor='LightGrey')\n",
    "# fig.update_yaxes(title_text=\"# Reference to term of interest\", showgrid=True, gridwidth=0.3, gridcolor='LightGrey')\n",
    "# fig.show()"
   ]
  }
 ],
 "metadata": {
  "kernelspec": {
   "display_name": "Python 3 (ipykernel)",
   "language": "python",
   "name": "python3"
  },
  "language_info": {
   "codemirror_mode": {
    "name": "ipython",
    "version": 3
   },
   "file_extension": ".py",
   "mimetype": "text/x-python",
   "name": "python",
   "nbconvert_exporter": "python",
   "pygments_lexer": "ipython3",
   "version": "3.8.12"
  }
 },
 "nbformat": 4,
 "nbformat_minor": 5
}
