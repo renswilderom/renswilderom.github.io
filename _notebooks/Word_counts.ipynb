{
 "cells": [
  {
   "cell_type": "markdown",
   "id": "e9b1eed7",
   "metadata": {},
   "source": [
    "## Plotting word counts through time with Pandas, Resample, and Plotly"
   ]
  },
  {
   "cell_type": "markdown",
   "id": "e3316783",
   "metadata": {},
   "source": [
    "***\n",
    "\n",
    "### 1. Open and prepare the dataset \n",
    "\n",
    "***"
   ]
  },
  {
   "cell_type": "markdown",
   "id": "91bbdc22",
   "metadata": {},
   "source": [
    "For this task, I created an example dataset of old-fashioned Dutch boy names. If you are working with your dataframe, then you need at least the following two columns: \n",
    "* a column with a date string (e.g. \"1950\") which can be turned into a Pandas datetime object (here we use years, but the datetime function also recognizes formates such as \"10/11/12,\" which are parsed as \"2012-11-10\").\n",
    "* a column with a text string (here we use a few boy names, but full newspaper articles, for example, would work, too). "
   ]
  },
  {
   "cell_type": "code",
   "execution_count": 1,
   "id": "412a5111",
   "metadata": {},
   "outputs": [
    {
     "data": {
      "text/html": [
       "<div>\n",
       "<style scoped>\n",
       "    .dataframe tbody tr th:only-of-type {\n",
       "        vertical-align: middle;\n",
       "    }\n",
       "\n",
       "    .dataframe tbody tr th {\n",
       "        vertical-align: top;\n",
       "    }\n",
       "\n",
       "    .dataframe thead th {\n",
       "        text-align: right;\n",
       "    }\n",
       "</style>\n",
       "<table border=\"1\" class=\"dataframe\">\n",
       "  <thead>\n",
       "    <tr style=\"text-align: right;\">\n",
       "      <th></th>\n",
       "      <th>year</th>\n",
       "      <th>text</th>\n",
       "    </tr>\n",
       "  </thead>\n",
       "  <tbody>\n",
       "    <tr>\n",
       "      <th>0</th>\n",
       "      <td>1950</td>\n",
       "      <td>Cees Aart Arie Jan Otto Gijs Sef Toon</td>\n",
       "    </tr>\n",
       "    <tr>\n",
       "      <th>1</th>\n",
       "      <td>1951</td>\n",
       "      <td>Cees Aart Arie Jan Otto Gijs Sef Toon Cees Aar...</td>\n",
       "    </tr>\n",
       "    <tr>\n",
       "      <th>3</th>\n",
       "      <td>1952</td>\n",
       "      <td>Aart Arie Toon</td>\n",
       "    </tr>\n",
       "    <tr>\n",
       "      <th>4</th>\n",
       "      <td>1953</td>\n",
       "      <td>Jan Otto</td>\n",
       "    </tr>\n",
       "    <tr>\n",
       "      <th>5</th>\n",
       "      <td>1954</td>\n",
       "      <td>Gijs</td>\n",
       "    </tr>\n",
       "  </tbody>\n",
       "</table>\n",
       "</div>"
      ],
      "text/plain": [
       "   year                                               text\n",
       "0  1950              Cees Aart Arie Jan Otto Gijs Sef Toon\n",
       "1  1951  Cees Aart Arie Jan Otto Gijs Sef Toon Cees Aar...\n",
       "3  1952                                     Aart Arie Toon\n",
       "4  1953                                           Jan Otto\n",
       "5  1954                                               Gijs"
      ]
     },
     "execution_count": 1,
     "metadata": {},
     "output_type": "execute_result"
    }
   ],
   "source": [
    "# Import packages and create an example dataset\n",
    "import warnings\n",
    "warnings.filterwarnings('ignore') # only use this when you know the script and want to supress unnecessary warnings\n",
    "\n",
    "# Create a dataframe\n",
    "import pandas as pd\n",
    "dict={'year':['1950', '1951', '1952', '1953', '1954'],\n",
    "      'text':['Cees Aart Arie Jan Otto Gijs Sef Toon', \n",
    "              'Cees Aart Arie Jan Otto Gijs Sef Toon Cees Aart Arie Jan Otto Gijs Sef Toon',\n",
    "              'Aart Arie Toon', \n",
    "              'Jan Otto', \n",
    "              'Gijs']} \n",
    "df=pd.DataFrame(dict,index=['0', '1', '3', '4', '5'])\n",
    "# in Jupyter Notebooks, you just call the name of a dataframe (e.g. \"df\") in the bottom of a cell to print it\n",
    "df['year'] = df['year'].astype(int)\n",
    "df"
   ]
  },
  {
   "cell_type": "code",
   "execution_count": 2,
   "id": "2cafd6f1",
   "metadata": {},
   "outputs": [
    {
     "data": {
      "text/html": [
       "<div>\n",
       "<style scoped>\n",
       "    .dataframe tbody tr th:only-of-type {\n",
       "        vertical-align: middle;\n",
       "    }\n",
       "\n",
       "    .dataframe tbody tr th {\n",
       "        vertical-align: top;\n",
       "    }\n",
       "\n",
       "    .dataframe thead th {\n",
       "        text-align: right;\n",
       "    }\n",
       "</style>\n",
       "<table border=\"1\" class=\"dataframe\">\n",
       "  <thead>\n",
       "    <tr style=\"text-align: right;\">\n",
       "      <th></th>\n",
       "      <th>year</th>\n",
       "      <th>text</th>\n",
       "    </tr>\n",
       "  </thead>\n",
       "  <tbody>\n",
       "    <tr>\n",
       "      <th>0</th>\n",
       "      <td>1950</td>\n",
       "      <td>Cees Aart Arie Jan Otto Gijs Sef Toon</td>\n",
       "    </tr>\n",
       "    <tr>\n",
       "      <th>1</th>\n",
       "      <td>1951</td>\n",
       "      <td>Cees Aart Arie Jan Otto Gijs Sef Toon Cees Aar...</td>\n",
       "    </tr>\n",
       "    <tr>\n",
       "      <th>3</th>\n",
       "      <td>1952</td>\n",
       "      <td>Aart Arie Toon</td>\n",
       "    </tr>\n",
       "  </tbody>\n",
       "</table>\n",
       "</div>"
      ],
      "text/plain": [
       "   year                                               text\n",
       "0  1950              Cees Aart Arie Jan Otto Gijs Sef Toon\n",
       "1  1951  Cees Aart Arie Jan Otto Gijs Sef Toon Cees Aar...\n",
       "3  1952                                     Aart Arie Toon"
      ]
     },
     "execution_count": 2,
     "metadata": {},
     "output_type": "execute_result"
    }
   ],
   "source": [
    "df = df[df['year'] <= 1952]\n",
    "df"
   ]
  },
  {
   "cell_type": "code",
   "execution_count": null,
   "id": "f9ab7550",
   "metadata": {},
   "outputs": [],
   "source": []
  },
  {
   "cell_type": "code",
   "execution_count": null,
   "id": "a9fe0627",
   "metadata": {},
   "outputs": [],
   "source": []
  },
  {
   "cell_type": "code",
   "execution_count": null,
   "id": "615e24c2",
   "metadata": {},
   "outputs": [],
   "source": []
  },
  {
   "cell_type": "code",
   "execution_count": null,
   "id": "8a68e173",
   "metadata": {},
   "outputs": [],
   "source": []
  },
  {
   "cell_type": "code",
   "execution_count": null,
   "id": "32161adb",
   "metadata": {},
   "outputs": [],
   "source": []
  },
  {
   "cell_type": "code",
   "execution_count": null,
   "id": "125ebcaa",
   "metadata": {},
   "outputs": [],
   "source": []
  },
  {
   "cell_type": "code",
   "execution_count": null,
   "id": "38da4d74",
   "metadata": {},
   "outputs": [],
   "source": [
    "# Convert the date string in the column \"year\" to a Pandas datetime object \n",
    "df['datetime']  = pd.to_datetime(df['year'], errors = 'coerce')\n",
    "df"
   ]
  },
  {
   "cell_type": "markdown",
   "id": "326746a3",
   "metadata": {},
   "source": [
    "***\n",
    "\n",
    "### 2. Getting the words counts for a term of interest\n",
    "\n",
    "***"
   ]
  },
  {
   "cell_type": "markdown",
   "id": "008397b2",
   "metadata": {},
   "source": [
    "Somethings to consider:\n",
    "* You can resample (aggregate) counts by year, month, week or day, \n",
    "* To do so, use either \"A-DEC,\" \"M,\" \"W\" or \"D\" after \"resample\" in the code below\n",
    "* In this example, we work with yearly time series data, so we can only aggregate observations by year"
   ]
  },
  {
   "cell_type": "code",
   "execution_count": null,
   "id": "2bee8ad4",
   "metadata": {},
   "outputs": [],
   "source": [
    "# Below, we create a new column \"term_of_interest\", and search in the column \"text\" for \"Aart\" \n",
    "# The asterisk symbol (*) allows you to match on different endings, e.g. \"Aart.\"\n",
    "# While this is not relevant for this example dataset, it is often necessary for NLP research tasks\n",
    "df['term_of_interest'] = df['text'].str.count('Aart*')\n",
    "\n",
    "# This is the most import line of code in the script\n",
    "# In one line, we create a new dataset, with a datetime index, \n",
    "# and then aggregate the count of the term of interest per year\n",
    "df_word = df.set_index('datetime').resample('A-DEC')['term_of_interest'].sum()\n",
    "df_word = df_word.reset_index()\n",
    "print(df_word.sum())\n",
    "df_word"
   ]
  },
  {
   "cell_type": "code",
   "execution_count": null,
   "id": "3f94f0bb",
   "metadata": {
    "scrolled": true
   },
   "outputs": [],
   "source": [
    "# Optional: use a Plotly bar chart to graph the data\n",
    "# To run this code, you need to install the Plotly package first \n",
    "import plotly.express as px\n",
    "from IPython.display import Image\n",
    "fig = px.bar(df_word, x='datetime', y='term_of_interest')\n",
    "fig.update_layout(showlegend=False,\n",
    "    xaxis_rangeslider_visible=False,\n",
    "    width=450,\n",
    "    height=450)  \n",
    "fig.update_layout(paper_bgcolor='rgba(0,0,0,0)', plot_bgcolor='rgba(0,0,0,0)')\n",
    "fig.update_xaxes(title_text=\"Year\", showgrid=True, gridwidth=0.3, gridcolor='LightGrey')\n",
    "fig.update_yaxes(title_text=\"# Reference to term of interest\", showgrid=True, gridwidth=0.3, gridcolor='LightGrey')\n",
    "# Uncomment the line below for an interactive graph. \n",
    "# fig.show()\n",
    "# However, here we use a static \"png\" image\n",
    "Image(fig.to_image(format=\"png\", width=450, height=450))"
   ]
  }
 ],
 "metadata": {
  "kernelspec": {
   "display_name": "Python 3 (ipykernel)",
   "language": "python",
   "name": "python3"
  },
  "language_info": {
   "codemirror_mode": {
    "name": "ipython",
    "version": 3
   },
   "file_extension": ".py",
   "mimetype": "text/x-python",
   "name": "python",
   "nbconvert_exporter": "python",
   "pygments_lexer": "ipython3",
   "version": "3.8.12"
  }
 },
 "nbformat": 4,
 "nbformat_minor": 5
}
