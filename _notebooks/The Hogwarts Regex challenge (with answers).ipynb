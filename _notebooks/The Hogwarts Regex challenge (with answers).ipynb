{
 "cells": [
  {
   "cell_type": "markdown",
   "id": "24d6d842",
   "metadata": {},
   "source": [
    "***\n",
    "\n",
    "## <div align=\"center\"> The Hogwarts Regex challenge\n",
    "\n",
    "<div align=\"center\"> Computational Social Sciences, University of Amsterdam, April, 2024\n",
    "\n",
    "***"
   ]
  },
  {
   "cell_type": "markdown",
   "id": "7e518185",
   "metadata": {},
   "source": [
    "![hogwarts](https://cdn.dribbble.com/users/59947/screenshots/12020903/media/b4aaca6fc95d40427b6bf9b3c5cc05be.jpg?compress=1&resize=800x600&vertical=top)\n",
    "\n",
    "Artwork by [StudioMuti](https://studiomuti.co.za/)\n"
   ]
  },
  {
   "cell_type": "markdown",
   "id": "c2c60925",
   "metadata": {},
   "source": [
    "***\n",
    "\n",
    "### The challange explained\n",
    "\n",
    "\n",
    "Welcome challengee - it is time to perform magic with Python. In this challenge you will be working with Regex (short for Regular Expressions), a language with which you can match and retrieve strings of text or numbers. This allows you to turn messy real world data (e.g. from websites, emails, or other forms of communication) into a neat data structure (e.g. a Pandas Dataframe).\n",
    "\n",
    "\n",
    "To accomplish this challenge, you can use the instructions in this Jupyter Notebook as well as the following websites: \n",
    "\n",
    "* [Python Documentation Regular Expressions](https://docs.python.org/3/library/re.html)\n",
    "* [Rex Egg](https://www.rexegg.com/)\n",
    "* [Google for Education Python Regular Expressions](https://developers.google.com/edu/python/regular-expressions)\n",
    "\n",
    "\n",
    "It is advised that you start with the instructions provide here, and then you can do some extra reading on these websites. Please do not use any other sources, unless it is specifically stated that you can. \n",
    "\n",
    "***"
   ]
  },
  {
   "cell_type": "markdown",
   "id": "e291486d",
   "metadata": {},
   "source": [
    "***\n",
    "\n",
    "### 7 Regex examples\n",
    "\n",
    "***"
   ]
  },
  {
   "cell_type": "markdown",
   "id": "2e68d255",
   "metadata": {},
   "source": [
    "***\n",
    "\n",
    "**Example 1. Matching digits and using quantifiers**\n",
    "\n",
    "So what is Regex used for? Imaging that you like to extract all 'years' from the string ```s``` below. This can be achieved with the Regex pattern ```\\d{4}``` which will match on all four digit numbers. Whilst ```\\d``` matches on all digits, ```{4}``` quantifies '4 instances of the foregoing character.' In this particular example, you could also have used ```\\d+```, meaning 'one or more digits.' \n",
    "\n",
    "Run the code cell below to see how it works. The Regex library comes pre-installed in Anaconda, so you just need to import it.\n",
    "\n",
    "***"
   ]
  },
  {
   "cell_type": "code",
   "execution_count": null,
   "id": "8eedb754",
   "metadata": {},
   "outputs": [],
   "source": [
    "import re\n",
    "s = 'The Philosopher\\'s Stone is published in 1997, but the writing started in 1990.'\n",
    "m = re.findall(r'\\d{4}',s) \n",
    "m "
   ]
  },
  {
   "cell_type": "markdown",
   "id": "9ddfcdd0",
   "metadata": {},
   "source": [
    "Some background: use ```re.findall()``` when you want to retrieve multiple strings that match a pattern. This basic Regex function is used in most of the challenges below. It returns matches as a list, or a list of tuples, as we will see in example 3 in this Notebook, where the use of groups will be discussed. The [Python Documentation](https://docs.python.org/3/library/re.html) on ```re.findall()```:\n",
    "> _Return all non-overlapping matches of pattern in string, as a list of strings or tuples. The string is scanned left-to-right, and matches are returned in the order found. Empty matches are included in the result._\n",
    "\n",
    "> _The result depends on the number of capturing groups in the pattern. If there are no groups, return a list of strings matching the whole pattern. If there is exactly one group, return a list of strings matching that group. If multiple groups are present, return a list of tuples of strings matching the groups. Non-capturing groups do not affect the form of the result._"
   ]
  },
  {
   "cell_type": "markdown",
   "id": "15c2ec11",
   "metadata": {},
   "source": [
    "***\n",
    "\n",
    "**Example 2. Matching word characters and whitespace**\n",
    "\n",
    "Word characters are matched with ```\\w```. Sometimes you also need to match whitespace, which can be done with the Regex character ```\\s```. In the example below, you only match two word characters that are followed by a whitespace, so only 'aa ' rather than 'bb'.\n",
    "\n",
    "***"
   ]
  },
  {
   "cell_type": "code",
   "execution_count": null,
   "id": "6b07995c",
   "metadata": {},
   "outputs": [],
   "source": [
    "s = 'aa bb' \n",
    "m = re.findall(r'\\w{2}\\s', s)\n",
    "m"
   ]
  },
  {
   "cell_type": "markdown",
   "id": "36784d34",
   "metadata": {},
   "source": [
    "Some background: use ```re.search()``` when you want to retrieve one string that matches the pattern. It returns a match object, which in the example above consists of only 1 group (i.e. group(0)). In the next example, you will see how you can work with matches consisting of multiple groups. The [Python Documentation](https://docs.python.org/3/library/re.html) on ```re.search()```:\n",
    "> _Scan through string looking for the first location where the regular expression pattern produces a match, and return a corresponding match object. Return None if no position in the string matches the pattern; note that this is different from finding a zero-length match at some point in the string._"
   ]
  },
  {
   "cell_type": "markdown",
   "id": "7ee1d12f",
   "metadata": {},
   "source": [
    "***\n",
    "\n",
    "**Example 3. Match anything in between two strings and divide matches into groups**\n",
    "\n",
    "As a magician practitioner, you may be interested in any text or numbers in between two specific strings. In the example below, we like to retrieve anything that comes in between the letters 'b' and 'd.' We also specify that these characters should be surrounded by whitespace (so ```\\sb\\s``` and ```\\sd\\s```), otherwise the pattern could also match on any 'b' or 'd,' including those that are part of larger words. \n",
    "\n",
    "The pattern ```.*?``` matches on _anything._ It is placed between parentheses '()' to form a delimited group, i.e. a subset of your full match from which you can separately retrieve information, as will be explained in a moment. \n",
    "\n",
    "First run the code.\n",
    "\n",
    "***"
   ]
  },
  {
   "cell_type": "code",
   "execution_count": null,
   "id": "1b4ce880",
   "metadata": {},
   "outputs": [],
   "source": [
    "s = 'a b anything, including a c d e f' \n",
    "m = re.search(r'\\sb\\s(.*?)\\sd\\s', s).group(1)\n",
    "m"
   ]
  },
  {
   "cell_type": "markdown",
   "id": "03e15030",
   "metadata": {},
   "source": [
    "***\n",
    "\n",
    "It is important to note that the pattern ```\\sb\\s(.*?)\\sd\\s``` will match anything that comes in between 'b' and 'd' (as long a the 'b' and 'd' are surrounded by whitespace). \n",
    "\n",
    "At this point it is also useful to understand how to use groups. \n",
    "\n",
    "```.group(0)``` always gives the full match associated with a Regex pattern. In the example above ```.group(0)``` returns:\n",
    "\n",
    "> b anything, including a c d\n",
    "\n",
    "However, in this example, we are interested in ```.group(1)```, everything in between two strings, that is, the match between the parentheses:\n",
    "\n",
    "> anything, including a c\n",
    "\n",
    "If we would add more parentheses, as we will see in the next example, then we would create more groups, which are numbered in order of appearance.\n",
    "\n",
    "***"
   ]
  },
  {
   "cell_type": "markdown",
   "id": "fbf2a722",
   "metadata": {},
   "source": [
    "***\n",
    "\n",
    "**Example 4. Positive lookbehind**\n",
    "\n",
    "In the following example, we will take a look at another useful Regex trick. Imaging a situation where you are just interested in the year in which the writing of a certain book started. In such cases you can use a 'positive lookbehind' to start matching _after_ particular (Regex) characters. \n",
    "\n",
    "We can divide the pattern below into three parts. Each part is put between brackets to compile separate groups from which we can retrieve information. ```(?<=writing)``` looks behind the word 'writing.' ```(.*?)``` matches on anything that comes after that. And ```(\\d{4})``` matches on 4 digit numbers that come after the word writing. In other words, this [string searching algorithm](https://en.wikipedia.org/wiki/String-searching_algorithm) starts becoming interested as soon as it sees 'writing,' then it processes anything, until it bumps into a 4 digit number.\n",
    "\n",
    "Now see it in action.\n",
    "\n",
    "***"
   ]
  },
  {
   "cell_type": "code",
   "execution_count": null,
   "id": "73187e61",
   "metadata": {},
   "outputs": [],
   "source": [
    "s = 'The Philosopher\\'s Stone is published in 1997, but the writing started in 1990.'\n",
    "m  = re.search(r'(?<=writing)(.*?)(\\d{4})', s)\n",
    "m.group(2).strip()"
   ]
  },
  {
   "cell_type": "markdown",
   "id": "11a65dd9",
   "metadata": {},
   "source": [
    "Some background: observe that there are 4 groups in total (group 0 to 3). Also note that that you can also match 'ordinary' characters, such as the letters that form the word 'writing.' You are allowed to use Regex and ordinary characters side-by-side."
   ]
  },
  {
   "cell_type": "markdown",
   "id": "c22fea77",
   "metadata": {},
   "source": [
    "***\n",
    "\n",
    "**Example 5. Positive lookahead**\n",
    "\n",
    "Similarly to the positive lookbehind, Regex also offer a 'positive lookahead,' which can yield matches _before_ a particular character. Use ```(?=...)```, where '...' should be replaced by a character of your choice. In the example below, the Regex pattern will match on any single word character which is followed by a space and the letter 'c.'\n",
    "\n",
    "\n",
    "***"
   ]
  },
  {
   "cell_type": "code",
   "execution_count": null,
   "id": "ab501c66",
   "metadata": {},
   "outputs": [],
   "source": [
    "s = 'a b c d'\n",
    "m = re.search(r'\\w{1}(?=\\sc)', s) # note that you need to add a space character either before the c or after the \\w{1}\n",
    "m"
   ]
  },
  {
   "cell_type": "markdown",
   "id": "c6e0732a",
   "metadata": {},
   "source": [
    "***\n",
    "\n",
    "**Example 6. Optional patterns**\n",
    "\n",
    "Regex also makes it possible to use optional patterns, you can match those, but they shouldn't necessarily occur. A question mark (```?```) makes the preceding pattern/group optional. For instance, ```Jan(uary)?``` allows you to match two different notations of 'January'. In the example below, you will see that the Regex pattern ```Harry(\\sPotter)?``` will match both on 'Harry' and 'Harry Potter.' \n",
    "\n",
    "***"
   ]
  },
  {
   "cell_type": "code",
   "execution_count": null,
   "id": "2de8b710",
   "metadata": {},
   "outputs": [],
   "source": [
    "sentences = ['This story is about Harry', 'This story is about Harry Potter', 'This story is about Hagrid'] \n",
    "for s in sentences:\n",
    "    m = re.search(r'Harry(\\sPotter)?', s)\n",
    "    if m:\n",
    "        print(m)\n",
    "    else:\n",
    "        print(f'{s}, which is not about Harry Potter.')"
   ]
  },
  {
   "cell_type": "markdown",
   "id": "46391ef8",
   "metadata": {},
   "source": [
    "Note that you won't need such a For Loop in the challenges below."
   ]
  },
  {
   "cell_type": "markdown",
   "id": "42fc8497",
   "metadata": {},
   "source": [
    "***\n",
    "\n",
    "**Example 7. Word boundaries**\n",
    "\n",
    "Finally, Regex is all about finding the right pattern for the right match(es). You don't want to make the pattern too 'greedy' (so it gives your more than you want), and you also don't want to make it too 'strict' (so it gives you less than you want). \n",
    "\n",
    "For instance, imagine that you like to find all three letter words (The, but, the) in the string below. ```\\w{3}``` will not give you what you like. Just try it out. You need to demarcate the pattern with so-called 'word boundaries,' using ```\\b\\w{3}\\b```. This will make the pattern less greedy.  \n",
    "\n",
    "\n",
    "***"
   ]
  },
  {
   "cell_type": "code",
   "execution_count": null,
   "id": "0fb84fef",
   "metadata": {},
   "outputs": [],
   "source": [
    "s = 'The Philosopher\\'s Stone is published in 1997, but  the writing started in 1990.'\n",
    "m = re.findall(r'\\s\\w{3}\\s',s) \n",
    "m"
   ]
  },
  {
   "cell_type": "markdown",
   "id": "b978c3b8",
   "metadata": {},
   "source": [
    "***\n",
    "\n",
    "Here is a re-cap of the Regex characters and patterns that we discussed in the examples above:\n",
    "\n",
    "* ```\\d```       matches digits\n",
    "* ```{...}```    quantifies particular number\n",
    "* ```+```        quantifies one or more\n",
    "* ```\\w```       matches word characters\n",
    "* ```\\s```       matches whitespace\n",
    "* ```.*?```      matches on anything\n",
    "* ```(?<=...)``` positive lookbehind\n",
    "* ```(?=...)```  positive lookahead\n",
    "* ```(...)?```   optional pattern\n",
    "* ```\\b```       word boundaries\n",
    "\n",
    "If you like, then you can take a look at the [Rex Egg's cheat sheet](https://www.rexegg.com/regex-quickstart.html) for a more complete overview of Regex characters and patterns. But the list above is sufficient to solve many Regex challenges, including those that you will turn to now.\n",
    "\n",
    "***"
   ]
  },
  {
   "cell_type": "markdown",
   "id": "630584dd",
   "metadata": {},
   "source": [
    "***\n",
    "\n",
    "### The 6 Hogwarts Regex challenges\n",
    "\n",
    "***"
   ]
  },
  {
   "cell_type": "markdown",
   "id": "20870e62",
   "metadata": {},
   "source": [
    "![hogwarts](https://cdn.myportfolio.com/dec2ec5f1d77f2e55ec28194f9bdb91f/c34d0855-7e1a-4359-b45b-00432a9bbbb3_rw_1920.jpg?h=f5dbc192de8300efb75a245ec13b22ac)\n",
    "\n",
    "Artwork by [StudioMuti](https://studiomuti.co.za/)\n",
    "\n",
    "\n",
    "\n",
    "\n"
   ]
  },
  {
   "cell_type": "markdown",
   "id": "2007acce",
   "metadata": {},
   "source": [
    "***\n",
    "\n",
    "**Challenge 1.** \n",
    "\n",
    "Is it likely? No. But, imaging a wave of modernization at Hogwarts, in which Professors added email to their stock pile of communication methods. As a data wizard, you will need to extract all email addresses from the existing documentation to make a clean email list. Find all email addresses in the string below. \n",
    "\n",
    "To help you in the right direction: for this challenge you can use ```re.findall()``` similarly to how it is used in Example 1.\n",
    "\n",
    "***"
   ]
  },
  {
   "cell_type": "code",
   "execution_count": 2,
   "id": "aabd5a71",
   "metadata": {},
   "outputs": [],
   "source": [
    "import re"
   ]
  },
  {
   "cell_type": "code",
   "execution_count": 3,
   "id": "3904204a",
   "metadata": {},
   "outputs": [
    {
     "data": {
      "text/plain": [
       "['sinistra@hogwarts.edu', 'lupin@hogwarts.edu', 'snape@hogwarts.edu']"
      ]
     },
     "execution_count": 3,
     "metadata": {},
     "output_type": "execute_result"
    }
   ],
   "source": [
    "# Answer to Challenge 1.\n",
    "s = 'Please submit your assignments to the following email addresses. \\nAstronomy: sinistra@hogwarts.edu \\nDefence Against the Dark Arts: lupin@hogwarts.edu \\nPotions: snape@hogwarts.edu'\n",
    "m = re.findall(r'\\b[a-zA-Z0-9._%+-]+@[a-zA-Z0-9.-]+\\.[a-zA-Z]{2,}\\b', s) \n",
    "m"
   ]
  },
  {
   "cell_type": "markdown",
   "id": "546a3f5c",
   "metadata": {},
   "source": [
    "*** \n",
    "\n",
    "**Challenge 2.** \n",
    "\n",
    "Snape, being Snape, expressed a preference for Gmail. Write a pattern that is flexible enough to process such anomalies. \n",
    "\n",
    "\n",
    "***"
   ]
  },
  {
   "cell_type": "code",
   "execution_count": 4,
   "id": "2b5bf7ce",
   "metadata": {},
   "outputs": [
    {
     "data": {
      "text/plain": [
       "['sinistra@hogwarts.edu', 'lupin@hogwarts.edu', 'snape@gmail.com']"
      ]
     },
     "execution_count": 4,
     "metadata": {},
     "output_type": "execute_result"
    }
   ],
   "source": [
    "# Answer to Challenge 2.\n",
    "s = 'Please submit your assignments to the following email addresses. \\nAstronomy: sinistra@hogwarts.edu \\nDefence Against the Dark Arts: lupin@hogwarts.edu \\nPotions: snape@gmail.com'\n",
    "m = re.findall(r'\\w+@\\w+.\\w+', s) \n",
    "m"
   ]
  },
  {
   "cell_type": "markdown",
   "id": "a0a8eb6f",
   "metadata": {},
   "source": [
    "*** \n",
    "\n",
    "**Challenge 3.** \n",
    "\n",
    "It's not just email which is the enemy of owl post, professors may turn to telephones, too! Identify all telephone numbers within the following string. Also note that you have to match the whitespaces in between the numbers.\n",
    "\n",
    "\n",
    "***"
   ]
  },
  {
   "cell_type": "code",
   "execution_count": null,
   "id": "d68c5b99",
   "metadata": {},
   "outputs": [],
   "source": [
    "# Answer to Challenge 3.\n",
    "s = 'In case of emergency, please do call your professor. Reach out to Professor Sinistra at 010 4529 6017, Professor Lupin at 010 5529 9036, or Professor Snape at 010 8865 9046'\n",
    "m = re.findall(r'\\d{3}\\s\\d{4}\\s\\d{4}', s)\n",
    "m"
   ]
  },
  {
   "cell_type": "markdown",
   "id": "8b03399e",
   "metadata": {},
   "source": [
    "***\n",
    "\n",
    "**Challenge 4.** \n",
    "\n",
    "This challenge has two parts. \n",
    "\n",
    "First, ```re.findall``` returns a list, and, if you search for multiple groups, a list of tuples. Use ```re.findall``` and a Regex pattern that returns 3 groups: (1) 'Professor Some_Family_Name', (2) ' at ', and (3) 'a telephone number'. Hence your output should look like this:\n",
    "\n",
    "> [('Professor Sinistra', ' at ', '010 4529 6017'),\n",
    ">\n",
    "> ('Professor Lupin', ' at ', '010 5529 9036'),\n",
    ">\n",
    "> ('Professor Snape', ' at ', '010 8865 9046')]\n",
    "\n",
    "Note that you also have to match the whitespace before and after ' at '\n",
    "\n",
    "\n",
    "Second, having compiled your list of tuples, your next goal is to turn it into a Pandas Dataframe and to make the 'at' dissapear. The end result should looks as follows (you will need to rename the column names yourself):\n",
    "\n",
    "|    | name professor       | telephone number   |\n",
    "|---:|:---------------------|:-------------------|\n",
    "|  0 | Professor Sinistra      | 010 4529 6017      |\n",
    "|  1 | Professor Lupin | 010 5529 9036      |\n",
    "|  2 | Professor Snape      | 010 8865 9046      |\n",
    "\n",
    "\n",
    "\n",
    "There are various ways to do this. Teach yourself a method of choice. For this part you may use other websites than the ones listed above.\n",
    "\n",
    "\n",
    "***"
   ]
  },
  {
   "cell_type": "code",
   "execution_count": null,
   "id": "15a1feeb",
   "metadata": {},
   "outputs": [],
   "source": [
    "# Answer to Challenge 4 (part 1).\n",
    "s = 'In case of emergency, please do call your professor. Reach out to Professor Sinistra at 010 4529 6017, Professor Lupin at 010 5529 9036, or Professor Snape at 010 8865 9046'\n",
    "m = re.findall(r'(Professor\\s\\w+)(\\sat\\s)(\\d{3}\\s\\d{4}\\s\\d{4})', s)\n",
    "m"
   ]
  },
  {
   "cell_type": "code",
   "execution_count": null,
   "id": "3aa8b69b",
   "metadata": {},
   "outputs": [],
   "source": [
    "# Answer to Challenge 4 (part 2).\n",
    "import pandas as pd\n",
    "import numpy as np\n",
    "df = pd.DataFrame(np.row_stack(m))\n",
    "df = df.drop(df.columns[1], axis=1)\n",
    "df = df.rename(columns={df.columns[0]: 'name professor', df.columns[1]: 'telephone number'})\n",
    "df"
   ]
  },
  {
   "cell_type": "markdown",
   "id": "0a98e0b6",
   "metadata": {},
   "source": [
    "***\n",
    "\n",
    "**Challenge 5.** \n",
    "\n",
    "This challenge again has two parts. \n",
    "\n",
    "First, you create a list of tuples, in which you capture both the subjects and grades in Harry's grade overview. For this you will need a positive lookahead and some optional items. \n",
    "\n",
    "Second, this list of tuples should then also be turned into a Dataframe (similarly as for Challenge 4). It is allowed to use other websites for this challenge.\n",
    "\n",
    "***"
   ]
  },
  {
   "cell_type": "code",
   "execution_count": null,
   "id": "f8987415",
   "metadata": {},
   "outputs": [],
   "source": [
    "# Answer to Challenge 5 (part 1).\n",
    "s = 'History of Magic: A; Muggle Studies: A; Potions O; Transfiguration: E; Arithmancy: A; Divination: O;'\n",
    "m = re.findall(r'(\\w+\\s?\\w+\\s?\\w+:\\s)(\\w{1})(?=;)', s)\n",
    "m"
   ]
  },
  {
   "cell_type": "code",
   "execution_count": null,
   "id": "053b0528",
   "metadata": {},
   "outputs": [],
   "source": [
    "# Answer to Challenge 5 (part 2).\n",
    "import pandas as pd\n",
    "import numpy as np\n",
    "df = pd.DataFrame(np.row_stack(m))\n",
    "df = df.rename(columns={df.columns[0]: 'subject', df.columns[1]: 'grade'})\n",
    "df  "
   ]
  },
  {
   "cell_type": "markdown",
   "id": "3c0d4c6a",
   "metadata": {},
   "source": [
    "***\n",
    "\n",
    "**Challenge 6.** \n",
    "\n",
    "Let's have a look at one more Regex example before going to the final challenge. ```re.sub()``` is an often used operation to clean and organize (textual) data. It works with a pattern that matches something, which is then replaced by something else. For instance, here we replace all underscores for spaces.\n",
    "\n",
    "***"
   ]
  },
  {
   "cell_type": "code",
   "execution_count": null,
   "id": "de1f98ac",
   "metadata": {},
   "outputs": [],
   "source": [
    "s = 'Hogwarts_School_of_Witchcraft_and_Wizardry'\n",
    "m = re.sub(r'_', ' ', s)\n",
    "m"
   ]
  },
  {
   "cell_type": "markdown",
   "id": "dc0d3e14",
   "metadata": {},
   "source": [
    "***\n",
    "\n",
    "Things can be made more interesting by adding a function that can deal with different scenarios. Built a function called ```grader``` which transforms the single letter grades into grades that are fully written out. If you do not know them by heart, then you can find the meaning of the different grades at Hogwarts [here](https://www.hp-lexicon.org/thing/grades-at-hogwarts/). For this part you may again use other websites than the ones listed above.\n",
    "\n",
    "***"
   ]
  },
  {
   "cell_type": "code",
   "execution_count": null,
   "id": "84b76bce",
   "metadata": {},
   "outputs": [],
   "source": [
    "import re"
   ]
  },
  {
   "cell_type": "code",
   "execution_count": null,
   "id": "b6c2d8be",
   "metadata": {},
   "outputs": [],
   "source": [
    "# Answer to Challenge 6.\n",
    "s = 'History of Magic: A; Muggle Studies: A; Potions O; Transfiguration: E; Arithmancy: A; Divination: O;'\n",
    "def grader(match_obj):\n",
    "    if match_obj.group(1) == 'O;': return 'Outstanding;'\n",
    "    if match_obj.group(2) == 'E;': return 'Exceeds expectations;'\n",
    "    if match_obj.group(3) == 'A;': return 'Acceptable;'\n",
    "\n",
    "full_grades = re.sub(r'(O;)|(E;)|(A;)', grader, s)\n",
    "full_grades"
   ]
  },
  {
   "cell_type": "markdown",
   "id": "4332f54a",
   "metadata": {},
   "source": [
    "***\n",
    "\n",
    "### End of the challenges\n",
    "\n",
    "***"
   ]
  }
 ],
 "metadata": {
  "kernelspec": {
   "display_name": "Python 3 (ipykernel)",
   "language": "python",
   "name": "python3"
  },
  "language_info": {
   "codemirror_mode": {
    "name": "ipython",
    "version": 3
   },
   "file_extension": ".py",
   "mimetype": "text/x-python",
   "name": "python",
   "nbconvert_exporter": "python",
   "pygments_lexer": "ipython3",
   "version": "3.11.5"
  }
 },
 "nbformat": 4,
 "nbformat_minor": 5
}
